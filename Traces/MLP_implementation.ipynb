{
 "cells": [
  {
   "cell_type": "code",
   "execution_count": 1,
   "metadata": {},
   "outputs": [],
   "source": [
    "# the two previous files were used to preprocess the csv dataset\n",
    "# in this file, I will just implement a basic MLP (multilayer preceptron)\n",
    "# from sckit learn, just to see if the model is able to learn something on the \n",
    "# data or not\n",
    "\n",
    "# its important not to forget that the model will take in as input\n",
    "# a series of data over time (it can be one type of data like CPU usage\n",
    "# as it can be mulitple, like cpu and memoery usage ..) and will ouput something, which\n",
    "# logically should be the next data item in time\n",
    "\n",
    "# in this model here, it will take in as input only the CPU usage and try to predict\n",
    "# the average next CPU usage"
   ]
  },
  {
   "cell_type": "code",
   "execution_count": 2,
   "metadata": {},
   "outputs": [],
   "source": [
    "# the imports\n",
    "\n",
    "import glob\n",
    "import csv\n",
    "import os\n",
    "import matplotlib.pyplot as plt\n",
    "import numpy as np\n",
    "import sklearn\n",
    "from matplotlib import colors as mcolors\n",
    "from sklearn.neural_network import MLPClassifier\n",
    "from sklearn.model_selection import GridSearchCV\n",
    "import matplotlib.pyplot as plt\n",
    "import itertools\n",
    "from sklearn.linear_model import LinearRegression\n",
    "from sklearn.linear_model import LogisticRegression"
   ]
  },
  {
   "cell_type": "code",
   "execution_count": 3,
   "metadata": {},
   "outputs": [],
   "source": [
    "num_classes = 20\n",
    "sample_history = 10"
   ]
  },
  {
   "cell_type": "code",
   "execution_count": 4,
   "metadata": {},
   "outputs": [],
   "source": [
    "def load_data():\n",
    "    path = \"../SecondPreProcess/*.csv\"\n",
    "    data = []\n",
    "    labels = []\n",
    "\n",
    "    print(\"loading data...\")\n",
    "\n",
    "    for fname in glob.glob(path):\n",
    "        with open(fname, 'r') as infh:\n",
    "            reader = csv.reader(infh, delimiter=';')\n",
    "            \n",
    "            for row in reader:\n",
    "                r = np.array(row, dtype = float)\n",
    "                rr = []\n",
    "                for i in range(sample_history):\n",
    "                    rr.append(r[i*7+1])\n",
    "                #print(rr)\n",
    "                data.append(rr)\n",
    "                labels.append(r[-1])\n",
    " \n",
    "    data = np.array(data)\n",
    "    labels = np.array(labels)\n",
    "    n = int(float(data.shape[0]) * 0.8)\n",
    "    train_data = data[:n]\n",
    "    train_labels = labels[:n]\n",
    "    test_data = data[n:]\n",
    "    test_labels = labels[n:]\n",
    "    print(\"finished loading data\")\n",
    "    return train_data, train_labels, test_data, test_labels"
   ]
  },
  {
   "cell_type": "code",
   "execution_count": 8,
   "metadata": {},
   "outputs": [
    {
     "name": "stdout",
     "output_type": "stream",
     "text": [
      "loading data...\n",
      "finished loading data\n"
     ]
    }
   ],
   "source": [
    "train_data, train_labels, test_data, test_labels = load_data()"
   ]
  },
  {
   "cell_type": "code",
   "execution_count": 7,
   "metadata": {},
   "outputs": [
    {
     "name": "stdout",
     "output_type": "stream",
     "text": [
      "(72236, 10)\n",
      "(288941,)\n"
     ]
    }
   ],
   "source": [
    "print(train_data.shape)\n",
    "print(train_labels.shape)\n",
    "print(test_data.shape)\n",
    "print(test_labels.shape)"
   ]
  },
  {
   "cell_type": "code",
   "execution_count": 18,
   "metadata": {},
   "outputs": [],
   "source": [
    "def grid_search(param_grid, clf, train_data, train_labels):\n",
    "    grid = GridSearchCV(clf, param_grid=param_grid, verbose=10)\n",
    "    grid.fit(train_data, train_labels)\n",
    "    print(\"Best: {0}\".format(grid.best_estimator_))\n",
    "    return grid.best_estimator_\n"
   ]
  },
  {
   "cell_type": "code",
   "execution_count": 19,
   "metadata": {},
   "outputs": [],
   "source": [
    "def train(train_data, train_labels, test_data, test_labels):\n",
    "    param_grid = {\n",
    "        \"alpha\":[0.01]\n",
    "    }\n",
    "    clf = MLPClassifier()\n",
    "    clf = grid_search(param_grid, clf, train_data, train_labels)\n",
    "    print(\"Train accuracy = {}\".format(clf.score(train_data, train_labels)))\n",
    "    print(\"Test accuracy = {}\".format(clf.score(test_data, test_labels)))\n",
    "\n",
    "    #confusion matrix\n",
    "    # test_pred = clf.predict(test_data)\n",
    "    return clf\n"
   ]
  },
  {
   "cell_type": "code",
   "execution_count": 20,
   "metadata": {},
   "outputs": [
    {
     "name": "stdout",
     "output_type": "stream",
     "text": [
      "loading data...\n",
      "finished loading data\n",
      "Fitting 5 folds for each of 1 candidates, totalling 5 fits\n",
      "[CV 1/5; 1/1] START alpha=0.01..................................................\n",
      "[CV 1/5; 1/1] END ...................alpha=0.01;, score=0.927 total time=10.6min\n",
      "[CV 2/5; 1/1] START alpha=0.01..................................................\n",
      "[CV 2/5; 1/1] END ...................alpha=0.01;, score=0.900 total time= 9.7min\n",
      "[CV 3/5; 1/1] START alpha=0.01..................................................\n",
      "[CV 3/5; 1/1] END ...................alpha=0.01;, score=0.892 total time=10.8min\n",
      "[CV 4/5; 1/1] START alpha=0.01..................................................\n",
      "[CV 4/5; 1/1] END ...................alpha=0.01;, score=0.915 total time= 7.1min\n",
      "[CV 5/5; 1/1] START alpha=0.01..................................................\n",
      "[CV 5/5; 1/1] END ...................alpha=0.01;, score=0.909 total time= 8.0min\n"
     ]
    },
    {
     "name": "stderr",
     "output_type": "stream",
     "text": [
      "C:\\Users\\XL892PG\\Anaconda3\\lib\\site-packages\\sklearn\\neural_network\\_multilayer_perceptron.py:619: UserWarning: Training interrupted by user.\n",
      "  warnings.warn(\"Training interrupted by user.\")\n"
     ]
    },
    {
     "name": "stdout",
     "output_type": "stream",
     "text": [
      "Best: MLPClassifier(alpha=0.01)\n",
      "Train accuracy = 0.9204266614983682\n",
      "Test accuracy = 0.8904839692120272\n"
     ]
    }
   ],
   "source": [
    "train_data, train_labels, test_data, test_labels = load_data()\n",
    "clf = train(train_data, train_labels, test_data, test_labels)"
   ]
  },
  {
   "cell_type": "code",
   "execution_count": 23,
   "metadata": {},
   "outputs": [
    {
     "data": {
      "text/plain": [
       "['model_file_name.pkl']"
      ]
     },
     "execution_count": 23,
     "metadata": {},
     "output_type": "execute_result"
    }
   ],
   "source": [
    "import joblib\n",
    "joblib.dump(clf, 'model_file_name.pkl')\n",
    "# to load model = joblib.load(\"model_file_name.pkl\")"
   ]
  },
  {
   "cell_type": "code",
   "execution_count": 6,
   "metadata": {},
   "outputs": [],
   "source": [
    "train_data, train_labels, test_data, test_labels = load_data()\n",
    "import joblib\n",
    "model = joblib.load(\"model_file_name.pkl\")"
   ]
  },
  {
   "cell_type": "code",
   "execution_count": 7,
   "metadata": {},
   "outputs": [],
   "source": [
    "test_pred = model.predict(test_data)"
   ]
  },
  {
   "cell_type": "code",
   "execution_count": 17,
   "metadata": {},
   "outputs": [
    {
     "data": {
      "image/png": "[encoded data removed]",
      "text/plain": [
       "<Figure size 432x288 with 2 Axes>"
      ]
     },
     "metadata": {},
     "output_type": "display_data"
    }
   ],
   "source": [
    "plt.rc('axes', labelsize=16)    # fontsize of the x and y labels\n",
    "\n",
    "color_one = '#3399FF'\n",
    "color_two = '#FF8000'\n",
    "\n",
    "fig, ax1 = plt.subplots()\n",
    "\n",
    "t = np.arange(0, test_data.shape[0])\n",
    "ax1.plot(t, test_labels, color=color_one)\n",
    "ax1.set_xlabel('Timestamp index  #', )\n",
    "ax1.set_ylabel('Real Test Labels', color=color_one)\n",
    "ax1.tick_params('y', colors=color_one)\n",
    "\n",
    "ax2 = ax1.twinx()\n",
    "ax2.plot(t, test_pred, color=color_two)\n",
    "ax2.set_ylabel('Predicted Test Labels', color=color_two)\n",
    "ax2.tick_params('y', colors=color_two)\n",
    "\n",
    "plt.title(\"Bitbrains CPU % Average Trace\", fontsize=24)\n",
    "\n",
    "plt.show()"
   ]
  },
  {
   "cell_type": "code",
   "execution_count": 10,
   "metadata": {},
   "outputs": [],
   "source": [
    "test_pred = model.predict(test_data)\n",
    "train_pred = model.predict(train_data)"
   ]
  },
  {
   "cell_type": "code",
   "execution_count": 15,
   "metadata": {},
   "outputs": [
    {
     "data": {
      "text/plain": [
       "(288941,)"
      ]
     },
     "execution_count": 15,
     "metadata": {},
     "output_type": "execute_result"
    }
   ],
   "source": [
    "train_pred.shape"
   ]
  },
  {
   "cell_type": "code",
   "execution_count": 16,
   "metadata": {},
   "outputs": [
    {
     "name": "stdout",
     "output_type": "stream",
     "text": [
      "Train Score: 1.89 RMSE\n",
      "Test Score: 0.94 RMSE\n"
     ]
    }
   ],
   "source": [
    "import math\n",
    "from sklearn.metrics import mean_squared_error\n",
    "# calculate root mean squared error\n",
    "trainScore = math.sqrt(mean_squared_error(train_labels, train_pred))\n",
    "print('Train Score: %.2f RMSE' % (trainScore))\n",
    "\n",
    "testScore = math.sqrt(mean_squared_error(test_labels, test_pred))\n",
    "print('Test Score: %.2f RMSE' % (testScore))"
   ]
  },
  {
   "cell_type": "code",
   "execution_count": null,
   "metadata": {},
   "outputs": [],
   "source": []
  }
 ],
 "metadata": {
  "interpreter": {
   "hash": "cbf9d42aedbc90768b4389b53ce2f5e905e9c8eae5bc6beefed2c29eab5b146b"
  },
  "kernelspec": {
   "display_name": "Python 3.9.7 64-bit ('base': conda)",
   "language": "python",
   "name": "python3"
  },
  "language_info": {
   "codemirror_mode": {
    "name": "ipython",
    "version": 3
   },
   "file_extension": ".py",
   "mimetype": "text/x-python",
   "name": "python",
   "nbconvert_exporter": "python",
   "pygments_lexer": "ipython3",
   "version": "3.9.7"
  },
  "orig_nbformat": 4
 },
 "nbformat": 4,
 "nbformat_minor": 2
}
