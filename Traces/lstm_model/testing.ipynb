{
 "cells": [
  {
   "cell_type": "code",
   "execution_count": 1,
   "metadata": {},
   "outputs": [
    {
     "name": "stderr",
     "output_type": "stream",
     "text": [
      "/Users/naimsassine/.pyenv/versions/3.7.3/lib/python3.7/site-packages/pandas/compat/__init__.py:97: UserWarning: Could not import the lzma module. Your installed Python is incomplete. Attempting to use lzma compression will result in a RuntimeError.\n",
      "  warnings.warn(msg)\n"
     ]
    }
   ],
   "source": [
    "import tensorflow as tf\n",
    "from tensorflow import keras\n",
    "from tensorflow.keras import layers"
   ]
  },
  {
   "cell_type": "code",
   "execution_count": 2,
   "metadata": {},
   "outputs": [],
   "source": [
    "layer = layers.Dense(3)"
   ]
  },
  {
   "cell_type": "code",
   "execution_count": 3,
   "metadata": {},
   "outputs": [
    {
     "data": {
      "text/plain": [
       "[]"
      ]
     },
     "execution_count": 3,
     "metadata": {},
     "output_type": "execute_result"
    }
   ],
   "source": [
    "layer.weights"
   ]
  },
  {
   "cell_type": "code",
   "execution_count": 4,
   "metadata": {},
   "outputs": [],
   "source": [
    "x = tf.ones((1,4))"
   ]
  },
  {
   "cell_type": "code",
   "execution_count": 5,
   "metadata": {},
   "outputs": [
    {
     "data": {
      "text/plain": [
       "<tf.Tensor: shape=(1, 4), dtype=float32, numpy=array([[1., 1., 1., 1.]], dtype=float32)>"
      ]
     },
     "execution_count": 5,
     "metadata": {},
     "output_type": "execute_result"
    }
   ],
   "source": [
    "x"
   ]
  },
  {
   "cell_type": "code",
   "execution_count": 6,
   "metadata": {},
   "outputs": [
    {
     "data": {
      "text/plain": [
       "[<tf.Variable 'dense/kernel:0' shape=(4, 3) dtype=float32, numpy=\n",
       " array([[ 0.25137377, -0.8629391 ,  0.2742324 ],\n",
       "        [ 0.43978322,  0.39257252, -0.16895193],\n",
       "        [-0.29957557,  0.54238284, -0.4965844 ],\n",
       "        [ 0.3242606 ,  0.8143976 , -0.08226067]], dtype=float32)>,\n",
       " <tf.Variable 'dense/bias:0' shape=(3,) dtype=float32, numpy=array([0., 0., 0.], dtype=float32)>]"
      ]
     },
     "execution_count": 6,
     "metadata": {},
     "output_type": "execute_result"
    }
   ],
   "source": [
    "y = layer(x)\n",
    "layer.weights"
   ]
  },
  {
   "cell_type": "code",
   "execution_count": 7,
   "metadata": {},
   "outputs": [
    {
     "ename": "AttributeError",
     "evalue": "'Dense' object has no attribute 'summary'",
     "output_type": "error",
     "traceback": [
      "\u001b[0;31m---------------------------------------------------------------------------\u001b[0m",
      "\u001b[0;31mAttributeError\u001b[0m                            Traceback (most recent call last)",
      "\u001b[0;32m<ipython-input-7-3c1d6c54f42b>\u001b[0m in \u001b[0;36m<module>\u001b[0;34m\u001b[0m\n\u001b[0;32m----> 1\u001b[0;31m \u001b[0mlayer\u001b[0m\u001b[0;34m.\u001b[0m\u001b[0msummary\u001b[0m\u001b[0;34m(\u001b[0m\u001b[0;34m)\u001b[0m\u001b[0;34m\u001b[0m\u001b[0;34m\u001b[0m\u001b[0m\n\u001b[0m",
      "\u001b[0;31mAttributeError\u001b[0m: 'Dense' object has no attribute 'summary'"
     ]
    }
   ],
   "source": [
    "layer.summary()"
   ]
  },
  {
   "cell_type": "code",
   "execution_count": 17,
   "metadata": {},
   "outputs": [],
   "source": [
    "z = tf.ones((1,5))"
   ]
  },
  {
   "cell_type": "code",
   "execution_count": 19,
   "metadata": {},
   "outputs": [
    {
     "ename": "ValueError",
     "evalue": "Input 0 of layer \"dense\" is incompatible with the layer: expected axis -1of input shape to have value 4, but received input with shape (1, 5)",
     "output_type": "error",
     "traceback": [
      "\u001b[1;31m---------------------------------------------------------------------------\u001b[0m",
      "\u001b[1;31mValueError\u001b[0m                                Traceback (most recent call last)",
      "\u001b[1;32m~\\AppData\\Local\\Temp/ipykernel_24480/2720087435.py\u001b[0m in \u001b[0;36m<module>\u001b[1;34m\u001b[0m\n\u001b[1;32m----> 1\u001b[1;33m \u001b[0mlayer\u001b[0m\u001b[1;33m(\u001b[0m\u001b[0mz\u001b[0m\u001b[1;33m)\u001b[0m\u001b[1;33m\u001b[0m\u001b[1;33m\u001b[0m\u001b[0m\n\u001b[0m",
      "\u001b[1;32m~\\Anaconda3\\lib\\site-packages\\keras\\utils\\traceback_utils.py\u001b[0m in \u001b[0;36merror_handler\u001b[1;34m(*args, **kwargs)\u001b[0m\n\u001b[0;32m     65\u001b[0m     \u001b[1;32mexcept\u001b[0m \u001b[0mException\u001b[0m \u001b[1;32mas\u001b[0m \u001b[0me\u001b[0m\u001b[1;33m:\u001b[0m  \u001b[1;31m# pylint: disable=broad-except\u001b[0m\u001b[1;33m\u001b[0m\u001b[1;33m\u001b[0m\u001b[0m\n\u001b[0;32m     66\u001b[0m       \u001b[0mfiltered_tb\u001b[0m \u001b[1;33m=\u001b[0m \u001b[0m_process_traceback_frames\u001b[0m\u001b[1;33m(\u001b[0m\u001b[0me\u001b[0m\u001b[1;33m.\u001b[0m\u001b[0m__traceback__\u001b[0m\u001b[1;33m)\u001b[0m\u001b[1;33m\u001b[0m\u001b[1;33m\u001b[0m\u001b[0m\n\u001b[1;32m---> 67\u001b[1;33m       \u001b[1;32mraise\u001b[0m \u001b[0me\u001b[0m\u001b[1;33m.\u001b[0m\u001b[0mwith_traceback\u001b[0m\u001b[1;33m(\u001b[0m\u001b[0mfiltered_tb\u001b[0m\u001b[1;33m)\u001b[0m \u001b[1;32mfrom\u001b[0m \u001b[1;32mNone\u001b[0m\u001b[1;33m\u001b[0m\u001b[1;33m\u001b[0m\u001b[0m\n\u001b[0m\u001b[0;32m     68\u001b[0m     \u001b[1;32mfinally\u001b[0m\u001b[1;33m:\u001b[0m\u001b[1;33m\u001b[0m\u001b[1;33m\u001b[0m\u001b[0m\n\u001b[0;32m     69\u001b[0m       \u001b[1;32mdel\u001b[0m \u001b[0mfiltered_tb\u001b[0m\u001b[1;33m\u001b[0m\u001b[1;33m\u001b[0m\u001b[0m\n",
      "\u001b[1;32m~\\Anaconda3\\lib\\site-packages\\keras\\engine\\input_spec.py\u001b[0m in \u001b[0;36massert_input_compatibility\u001b[1;34m(input_spec, inputs, layer_name)\u001b[0m\n\u001b[0;32m    245\u001b[0m           \u001b[0mvalue\u001b[0m \u001b[1;33m=\u001b[0m \u001b[0mvalue\u001b[0m\u001b[1;33m.\u001b[0m\u001b[0mvalue\u001b[0m\u001b[1;33m\u001b[0m\u001b[1;33m\u001b[0m\u001b[0m\n\u001b[0;32m    246\u001b[0m         \u001b[1;32mif\u001b[0m \u001b[0mvalue\u001b[0m \u001b[1;32mis\u001b[0m \u001b[1;32mnot\u001b[0m \u001b[1;32mNone\u001b[0m \u001b[1;32mand\u001b[0m \u001b[0mshape_as_list\u001b[0m\u001b[1;33m[\u001b[0m\u001b[0mint\u001b[0m\u001b[1;33m(\u001b[0m\u001b[0maxis\u001b[0m\u001b[1;33m)\u001b[0m\u001b[1;33m]\u001b[0m \u001b[1;32mnot\u001b[0m \u001b[1;32min\u001b[0m \u001b[1;33m{\u001b[0m\u001b[0mvalue\u001b[0m\u001b[1;33m,\u001b[0m \u001b[1;32mNone\u001b[0m\u001b[1;33m}\u001b[0m\u001b[1;33m:\u001b[0m\u001b[1;33m\u001b[0m\u001b[1;33m\u001b[0m\u001b[0m\n\u001b[1;32m--> 247\u001b[1;33m           raise ValueError(\n\u001b[0m\u001b[0;32m    248\u001b[0m               \u001b[1;34mf'Input {input_index} of layer \"{layer_name}\" is '\u001b[0m\u001b[1;33m\u001b[0m\u001b[1;33m\u001b[0m\u001b[0m\n\u001b[0;32m    249\u001b[0m               \u001b[1;34mf'incompatible with the layer: expected axis {axis}'\u001b[0m\u001b[1;33m\u001b[0m\u001b[1;33m\u001b[0m\u001b[0m\n",
      "\u001b[1;31mValueError\u001b[0m: Input 0 of layer \"dense\" is incompatible with the layer: expected axis -1of input shape to have value 4, but received input with shape (1, 5)"
     ]
    }
   ],
   "source": [
    "layer(z)"
   ]
  },
  {
   "cell_type": "code",
   "execution_count": 8,
   "metadata": {},
   "outputs": [],
   "source": [
    "dense = tf.keras.Sequential([\n",
    "    tf.keras.layers.Dense(units=64, activation='relu'),\n",
    "    tf.keras.layers.Dense(units=64, activation='relu'),\n",
    "    tf.keras.layers.Dense(units=1)\n",
    "])"
   ]
  },
  {
   "cell_type": "code",
   "execution_count": 9,
   "metadata": {},
   "outputs": [],
   "source": [
    "y = dense(x)"
   ]
  },
  {
   "cell_type": "code",
   "execution_count": 13,
   "metadata": {},
   "outputs": [
    {
     "data": {
      "text/plain": [
       "[<tf.Variable 'dense_1/kernel:0' shape=(4, 64) dtype=float32, numpy=\n",
       " array([[-0.13683464, -0.24619743, -0.08687554,  0.09135842, -0.06195062,\n",
       "         -0.08483541,  0.15032962,  0.22918934,  0.04392558,  0.05871525,\n",
       "         -0.28308308,  0.04313719, -0.10938695,  0.29593253,  0.21608478,\n",
       "         -0.1382466 , -0.2650159 , -0.201215  , -0.20999728, -0.2709093 ,\n",
       "          0.22886384,  0.28718537, -0.03115907, -0.0339756 ,  0.23834676,\n",
       "         -0.1553531 ,  0.01284662, -0.15810144, -0.0631371 ,  0.2808296 ,\n",
       "          0.24881846,  0.02217287,  0.11506543,  0.0910112 , -0.05327542,\n",
       "          0.17834339, -0.19126707,  0.07411009,  0.0778915 ,  0.17985061,\n",
       "         -0.17590758, -0.02010626, -0.01539963, -0.20400342,  0.0858162 ,\n",
       "          0.14076677,  0.27380276,  0.1581425 , -0.19987896, -0.16171925,\n",
       "         -0.21503228, -0.13264503,  0.15063953,  0.21605474,  0.28901118,\n",
       "         -0.06123109, -0.02831   ,  0.15258753, -0.24474087,  0.06928018,\n",
       "          0.26175612, -0.14405866, -0.05326253,  0.28078187],\n",
       "        [-0.09332103,  0.03259593,  0.2020053 , -0.10154021,  0.06121302,\n",
       "         -0.1424382 ,  0.07022414,  0.10954276,  0.1762827 , -0.00083512,\n",
       "          0.21622354,  0.11050215, -0.24072008,  0.17292383,  0.0993005 ,\n",
       "         -0.13429132, -0.23185295, -0.28880966,  0.13404855, -0.2735515 ,\n",
       "         -0.02088013,  0.09703365, -0.14926717, -0.1340676 ,  0.06328291,\n",
       "          0.0084517 , -0.22596398,  0.05507696, -0.14740422, -0.06997216,\n",
       "         -0.23860353,  0.01466849,  0.0165002 , -0.25865647,  0.21465474,\n",
       "         -0.03144106,  0.04170641, -0.17469859,  0.05190533,  0.04949465,\n",
       "          0.12177521, -0.10854071,  0.10593599,  0.054032  ,  0.29289716,\n",
       "         -0.19102529,  0.03263885, -0.03816608, -0.06586646,  0.2712114 ,\n",
       "          0.12442434, -0.19196904,  0.05811441, -0.02142623,  0.00792599,\n",
       "          0.22421604,  0.24141163,  0.11802271, -0.25613728,  0.15899485,\n",
       "         -0.07498394,  0.18944463,  0.04575205,  0.05283961],\n",
       "        [ 0.02711129,  0.10425746,  0.13382137, -0.12012623, -0.23671934,\n",
       "         -0.1409004 ,  0.28621733, -0.10926287, -0.07478324, -0.07597047,\n",
       "          0.04956993,  0.09325105, -0.27041668, -0.18747412, -0.15658934,\n",
       "         -0.18711966, -0.1932276 ,  0.22022331,  0.2731614 , -0.15145674,\n",
       "          0.13931486,  0.13976443,  0.18607625,  0.22563696,  0.21147132,\n",
       "          0.16052535,  0.13446185,  0.02298903, -0.14762548,  0.13992256,\n",
       "         -0.20060289, -0.19945644,  0.22263181, -0.11057001, -0.00292093,\n",
       "         -0.00062421, -0.03869113, -0.17622344, -0.07421008, -0.2512386 ,\n",
       "         -0.23064715,  0.0376491 , -0.19772792, -0.19195828,  0.11874494,\n",
       "         -0.25732827, -0.03465614,  0.160469  ,  0.11519369, -0.03702047,\n",
       "         -0.03963298,  0.2625726 ,  0.08857858,  0.26596624,  0.11988056,\n",
       "         -0.17756933,  0.08781922, -0.02886701,  0.15383738, -0.19622043,\n",
       "          0.21794891, -0.10483551,  0.11346495,  0.21148986],\n",
       "        [-0.17941973,  0.10215366,  0.282498  ,  0.03355041, -0.29217774,\n",
       "          0.29688317,  0.28416073, -0.17096421, -0.11878721,  0.25217003,\n",
       "          0.04359251, -0.02560848, -0.22652397, -0.22397476,  0.14093977,\n",
       "         -0.04129869,  0.20310682, -0.23797485,  0.09428814, -0.006661  ,\n",
       "         -0.2897864 , -0.15528171,  0.21297616,  0.17612273,  0.20967293,\n",
       "         -0.1600857 ,  0.00712678,  0.29262882, -0.20526148,  0.14469174,\n",
       "         -0.24647513,  0.26593393,  0.13577184, -0.1931206 ,  0.06809023,\n",
       "         -0.28996113,  0.1593355 , -0.2091822 ,  0.29383123,  0.09957761,\n",
       "          0.02202389, -0.21002772, -0.2825762 , -0.27576613, -0.06818287,\n",
       "         -0.03627935,  0.02882347,  0.00955516,  0.28851604,  0.27249205,\n",
       "          0.06735519, -0.19210997,  0.22365612, -0.00726402,  0.18092176,\n",
       "          0.01163843,  0.03439671,  0.04650334, -0.00353092, -0.09243669,\n",
       "          0.12810957,  0.05796185,  0.02036256, -0.08106384]],\n",
       "       dtype=float32)>,\n",
       " <tf.Variable 'dense_1/bias:0' shape=(64,) dtype=float32, numpy=\n",
       " array([0., 0., 0., 0., 0., 0., 0., 0., 0., 0., 0., 0., 0., 0., 0., 0., 0.,\n",
       "        0., 0., 0., 0., 0., 0., 0., 0., 0., 0., 0., 0., 0., 0., 0., 0., 0.,\n",
       "        0., 0., 0., 0., 0., 0., 0., 0., 0., 0., 0., 0., 0., 0., 0., 0., 0.,\n",
       "        0., 0., 0., 0., 0., 0., 0., 0., 0., 0., 0., 0., 0.], dtype=float32)>,\n",
       " <tf.Variable 'dense_2/kernel:0' shape=(64, 64) dtype=float32, numpy=\n",
       " array([[-0.21064334, -0.0190357 ,  0.1001576 , ...,  0.07635011,\n",
       "         -0.0953646 ,  0.10680036],\n",
       "        [ 0.01074937, -0.19979249, -0.03729498, ...,  0.18826409,\n",
       "          0.16219129,  0.08325855],\n",
       "        [ 0.1982678 ,  0.15555261, -0.05673005, ..., -0.13073805,\n",
       "          0.15661566, -0.14114122],\n",
       "        ...,\n",
       "        [ 0.13203974,  0.00702062, -0.12934598, ...,  0.21448676,\n",
       "         -0.12905934, -0.06635387],\n",
       "        [ 0.0588512 ,  0.12761049, -0.12661168, ..., -0.09804322,\n",
       "         -0.03590807, -0.05471154],\n",
       "        [ 0.17349698,  0.00296821,  0.04540916, ...,  0.09464894,\n",
       "          0.13972892, -0.15187997]], dtype=float32)>,\n",
       " <tf.Variable 'dense_2/bias:0' shape=(64,) dtype=float32, numpy=\n",
       " array([0., 0., 0., 0., 0., 0., 0., 0., 0., 0., 0., 0., 0., 0., 0., 0., 0.,\n",
       "        0., 0., 0., 0., 0., 0., 0., 0., 0., 0., 0., 0., 0., 0., 0., 0., 0.,\n",
       "        0., 0., 0., 0., 0., 0., 0., 0., 0., 0., 0., 0., 0., 0., 0., 0., 0.,\n",
       "        0., 0., 0., 0., 0., 0., 0., 0., 0., 0., 0., 0., 0.], dtype=float32)>,\n",
       " <tf.Variable 'dense_3/kernel:0' shape=(64, 1) dtype=float32, numpy=\n",
       " array([[-1.84004813e-01],\n",
       "        [-2.70339221e-01],\n",
       "        [-2.73547232e-01],\n",
       "        [-2.28106976e-04],\n",
       "        [ 1.34607494e-01],\n",
       "        [ 2.75017440e-01],\n",
       "        [-2.38263786e-01],\n",
       "        [-2.37081021e-01],\n",
       "        [-8.17472041e-02],\n",
       "        [-9.85538960e-03],\n",
       "        [-3.03239852e-01],\n",
       "        [-2.52918690e-01],\n",
       "        [ 2.05222666e-02],\n",
       "        [-1.80550069e-01],\n",
       "        [ 2.32250214e-01],\n",
       "        [-1.01015866e-02],\n",
       "        [-3.03240120e-01],\n",
       "        [ 2.43385434e-02],\n",
       "        [-1.10655487e-01],\n",
       "        [ 2.13839650e-01],\n",
       "        [ 2.57280886e-01],\n",
       "        [ 1.58711493e-01],\n",
       "        [ 4.45088446e-02],\n",
       "        [-1.15904331e-01],\n",
       "        [ 8.97432864e-02],\n",
       "        [-8.76618773e-02],\n",
       "        [-2.24321008e-01],\n",
       "        [ 6.83563352e-02],\n",
       "        [ 2.06597447e-01],\n",
       "        [ 1.51971668e-01],\n",
       "        [ 1.09948218e-01],\n",
       "        [-4.67649698e-02],\n",
       "        [ 6.42582774e-02],\n",
       "        [ 5.65632582e-02],\n",
       "        [ 2.84496188e-01],\n",
       "        [-3.51126194e-02],\n",
       "        [ 1.07453644e-01],\n",
       "        [ 1.94071710e-01],\n",
       "        [ 8.98995996e-02],\n",
       "        [ 1.60084605e-01],\n",
       "        [-1.77728444e-01],\n",
       "        [-2.49620125e-01],\n",
       "        [ 7.48853385e-02],\n",
       "        [-4.99376953e-02],\n",
       "        [-1.13042787e-01],\n",
       "        [-1.86859325e-01],\n",
       "        [-2.90661275e-01],\n",
       "        [ 1.40429616e-01],\n",
       "        [ 1.42702967e-01],\n",
       "        [ 1.07300371e-01],\n",
       "        [ 2.16756940e-01],\n",
       "        [-3.70349586e-02],\n",
       "        [ 1.54379398e-01],\n",
       "        [-3.91579270e-02],\n",
       "        [ 1.40490234e-02],\n",
       "        [ 1.88573837e-01],\n",
       "        [ 2.55118191e-01],\n",
       "        [ 3.97120118e-02],\n",
       "        [ 2.06466198e-01],\n",
       "        [ 2.13192999e-02],\n",
       "        [-6.55937195e-03],\n",
       "        [ 2.52847135e-01],\n",
       "        [-1.68415248e-01],\n",
       "        [-2.57766575e-01]], dtype=float32)>,\n",
       " <tf.Variable 'dense_3/bias:0' shape=(1,) dtype=float32, numpy=array([0.], dtype=float32)>]"
      ]
     },
     "execution_count": 13,
     "metadata": {},
     "output_type": "execute_result"
    }
   ],
   "source": [
    "dense.weights"
   ]
  },
  {
   "cell_type": "code",
   "execution_count": null,
   "metadata": {},
   "outputs": [],
   "source": []
  }
 ],
 "metadata": {
  "interpreter": {
   "hash": "cbf9d42aedbc90768b4389b53ce2f5e905e9c8eae5bc6beefed2c29eab5b146b"
  },
  "kernelspec": {
   "display_name": "Python 3.9.7 ('base')",
   "language": "python",
   "name": "python3"
  },
  "language_info": {
   "codemirror_mode": {
    "name": "ipython",
    "version": 3
   },
   "file_extension": ".py",
   "mimetype": "text/x-python",
   "name": "python",
   "nbconvert_exporter": "python",
   "pygments_lexer": "ipython3",
   "version": "3.9.7"
  },
  "orig_nbformat": 4
 },
 "nbformat": 4,
 "nbformat_minor": 2
}
