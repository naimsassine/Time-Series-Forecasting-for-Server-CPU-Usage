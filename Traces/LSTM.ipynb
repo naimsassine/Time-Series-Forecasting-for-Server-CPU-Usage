{
 "cells": [
  {
   "cell_type": "code",
   "execution_count": 25,
   "metadata": {},
   "outputs": [],
   "source": [
    "# the imports\n",
    "\n",
    "import glob\n",
    "import csv\n",
    "import os\n",
    "import matplotlib.pyplot as plt\n",
    "import numpy as np\n",
    "import sklearn\n",
    "from matplotlib import colors as mcolors\n",
    "from sklearn.neural_network import MLPClassifier\n",
    "from sklearn.model_selection import GridSearchCV\n",
    "import matplotlib.pyplot as plt\n",
    "import itertools\n",
    "from sklearn.linear_model import LinearRegression\n",
    "from sklearn.linear_model import LogisticRegression\n",
    "\n",
    "from pandas import read_csv\n",
    "import math\n",
    "import keras\n",
    "from keras.models import Sequential\n",
    "from keras.layers import Dense\n",
    "from keras.layers import LSTM, Flatten\n",
    "from sklearn.preprocessing import MinMaxScaler\n",
    "from sklearn.metrics import mean_squared_error\n",
    "#from keras.callbacks import EarlyStopping\n",
    "from keras.layers import ConvLSTM2D"
   ]
  },
  {
   "cell_type": "code",
   "execution_count": 26,
   "metadata": {},
   "outputs": [],
   "source": [
    "num_classes = 20\n",
    "sample_history = 10"
   ]
  },
  {
   "cell_type": "code",
   "execution_count": 27,
   "metadata": {},
   "outputs": [],
   "source": [
    "def load_data():\n",
    "    path = \"../SecondPreProcess/*.csv\"\n",
    "    data = []\n",
    "    labels = []\n",
    "\n",
    "    print(\"loading data...\")\n",
    "\n",
    "    for fname in glob.glob(path):\n",
    "        with open(fname, 'r') as infh:\n",
    "            reader = csv.reader(infh, delimiter=';')\n",
    "            \n",
    "            for row in reader:\n",
    "                r = np.array(row, dtype = float)\n",
    "                rr = []\n",
    "                for i in range(sample_history):\n",
    "                    rr.append(r[i*7+1])\n",
    "                #print(rr)\n",
    "                data.append(rr)\n",
    "                labels.append(r[-1])\n",
    " \n",
    "    data = np.array(data)\n",
    "    labels = np.array(labels)\n",
    "    n = int(float(data.shape[0]) * 0.8)\n",
    "    train_data = data[:n]\n",
    "    train_labels = labels[:n]\n",
    "    test_data = data[n:]\n",
    "    test_labels = labels[n:]\n",
    "    print(\"finished loading data\")\n",
    "    return train_data, train_labels, test_data, test_labels"
   ]
  },
  {
   "cell_type": "code",
   "execution_count": 28,
   "metadata": {},
   "outputs": [
    {
     "name": "stdout",
     "output_type": "stream",
     "text": [
      "loading data...\n",
      "finished loading data\n"
     ]
    }
   ],
   "source": [
    "train_data, train_labels, test_data, test_labels = load_data()"
   ]
  },
  {
   "cell_type": "code",
   "execution_count": 29,
   "metadata": {},
   "outputs": [],
   "source": [
    "#LSTM uses sigmoid and tanh that are sensitive to magnitude so values need to be normalized\n",
    "# normalize the dataset\n",
    "scaler = MinMaxScaler(feature_range=(0, 1)) #Also try QuantileTransformer\n",
    "train_data = scaler.fit_transform(train_data)\n",
    "\n",
    "train_labels = train_labels.reshape(-1,1)\n",
    "train_labels = scaler.fit_transform(train_labels)\n",
    "train_labels = train_labels.flatten()\n",
    "\n",
    "test_data = scaler.fit_transform(test_data)\n",
    "\n",
    "test_labels = test_labels.reshape(-1,1)\n",
    "test_labels = scaler.fit_transform(test_labels)\n",
    "test_labels = test_labels.flatten()"
   ]
  },
  {
   "cell_type": "code",
   "execution_count": 33,
   "metadata": {},
   "outputs": [
    {
     "data": {
      "text/plain": [
       "(288941,)"
      ]
     },
     "execution_count": 33,
     "metadata": {},
     "output_type": "execute_result"
    }
   ],
   "source": [
    "train_labels.shape"
   ]
  },
  {
   "cell_type": "code",
   "execution_count": 34,
   "metadata": {},
   "outputs": [],
   "source": [
    "trainX = np.reshape(train_data, (train_data.shape[0], 1, train_data.shape[1]))\n",
    "testX = np.reshape(test_data, (test_data.shape[0], 1, test_data.shape[1]))"
   ]
  },
  {
   "cell_type": "code",
   "execution_count": 45,
   "metadata": {},
   "outputs": [
    {
     "name": "stdout",
     "output_type": "stream",
     "text": [
      "Single LSTM with hidden Dense...\n",
      "Model: \"sequential_1\"\n",
      "_________________________________________________________________\n",
      " Layer (type)                Output Shape              Param #   \n",
      "=================================================================\n",
      " lstm_1 (LSTM)               (None, 64)                19200     \n",
      "                                                                 \n",
      " dense_2 (Dense)             (None, 32)                2080      \n",
      "                                                                 \n",
      " dense_3 (Dense)             (None, 1)                 33        \n",
      "                                                                 \n",
      "=================================================================\n",
      "Total params: 21,313\n",
      "Trainable params: 21,313\n",
      "Non-trainable params: 0\n",
      "_________________________________________________________________\n",
      "Train...\n"
     ]
    }
   ],
   "source": [
    "print('Single LSTM with hidden Dense...')\n",
    "model = Sequential()\n",
    "model.add(LSTM(64, input_shape=(None, sample_history)))\n",
    "model.add(Dense(32))\n",
    "model.add(Dense(1))\n",
    "model.compile(loss='mean_squared_error', optimizer='adam')\n",
    "#monitor = EarlyStopping(monitor='val_loss', min_delta=1e-3, patience=20, \n",
    " #                       verbose=1, mode='auto', restore_best_weights=True)\n",
    "model.summary()\n",
    "print('Train...')"
   ]
  },
  {
   "cell_type": "code",
   "execution_count": 46,
   "metadata": {},
   "outputs": [
    {
     "name": "stdout",
     "output_type": "stream",
     "text": [
      "Epoch 1/100\n",
      "9030/9030 - 14s - loss: 0.0098 - val_loss: 0.0020 - 14s/epoch - 2ms/step\n",
      "Epoch 2/100\n",
      "9030/9030 - 12s - loss: 0.0094 - val_loss: 0.0018 - 12s/epoch - 1ms/step\n",
      "Epoch 3/100\n",
      "9030/9030 - 12s - loss: 0.0093 - val_loss: 0.0023 - 12s/epoch - 1ms/step\n",
      "Epoch 4/100\n",
      "9030/9030 - 12s - loss: 0.0091 - val_loss: 0.0020 - 12s/epoch - 1ms/step\n",
      "Epoch 5/100\n",
      "9030/9030 - 12s - loss: 0.0089 - val_loss: 0.0023 - 12s/epoch - 1ms/step\n",
      "Epoch 6/100\n",
      "9030/9030 - 12s - loss: 0.0088 - val_loss: 0.0023 - 12s/epoch - 1ms/step\n",
      "Epoch 7/100\n",
      "9030/9030 - 12s - loss: 0.0086 - val_loss: 0.0020 - 12s/epoch - 1ms/step\n",
      "Epoch 8/100\n",
      "9030/9030 - 12s - loss: 0.0086 - val_loss: 0.0020 - 12s/epoch - 1ms/step\n",
      "Epoch 9/100\n",
      "9030/9030 - 12s - loss: 0.0085 - val_loss: 0.0020 - 12s/epoch - 1ms/step\n",
      "Epoch 10/100\n",
      "9030/9030 - 12s - loss: 0.0084 - val_loss: 0.0021 - 12s/epoch - 1ms/step\n",
      "Epoch 11/100\n",
      "9030/9030 - 12s - loss: 0.0083 - val_loss: 0.0021 - 12s/epoch - 1ms/step\n",
      "Epoch 12/100\n",
      "9030/9030 - 12s - loss: 0.0082 - val_loss: 0.0021 - 12s/epoch - 1ms/step\n",
      "Epoch 13/100\n",
      "9030/9030 - 13s - loss: 0.0082 - val_loss: 0.0019 - 13s/epoch - 1ms/step\n",
      "Epoch 14/100\n",
      "9030/9030 - 12s - loss: 0.0081 - val_loss: 0.0021 - 12s/epoch - 1ms/step\n",
      "Epoch 15/100\n",
      "9030/9030 - 12s - loss: 0.0081 - val_loss: 0.0019 - 12s/epoch - 1ms/step\n",
      "Epoch 16/100\n",
      "9030/9030 - 12s - loss: 0.0080 - val_loss: 0.0020 - 12s/epoch - 1ms/step\n",
      "Epoch 17/100\n",
      "9030/9030 - 12s - loss: 0.0080 - val_loss: 0.0020 - 12s/epoch - 1ms/step\n",
      "Epoch 18/100\n",
      "9030/9030 - 12s - loss: 0.0079 - val_loss: 0.0019 - 12s/epoch - 1ms/step\n",
      "Epoch 19/100\n",
      "9030/9030 - 12s - loss: 0.0079 - val_loss: 0.0021 - 12s/epoch - 1ms/step\n",
      "Epoch 20/100\n",
      "9030/9030 - 12s - loss: 0.0078 - val_loss: 0.0021 - 12s/epoch - 1ms/step\n",
      "Epoch 21/100\n",
      "9030/9030 - 12s - loss: 0.0078 - val_loss: 0.0021 - 12s/epoch - 1ms/step\n",
      "Epoch 22/100\n",
      "9030/9030 - 12s - loss: 0.0078 - val_loss: 0.0019 - 12s/epoch - 1ms/step\n",
      "Epoch 23/100\n",
      "9030/9030 - 11s - loss: 0.0077 - val_loss: 0.0021 - 11s/epoch - 1ms/step\n",
      "Epoch 24/100\n",
      "9030/9030 - 11s - loss: 0.0077 - val_loss: 0.0020 - 11s/epoch - 1ms/step\n",
      "Epoch 25/100\n",
      "9030/9030 - 11s - loss: 0.0077 - val_loss: 0.0019 - 11s/epoch - 1ms/step\n",
      "Epoch 26/100\n",
      "9030/9030 - 11s - loss: 0.0076 - val_loss: 0.0019 - 11s/epoch - 1ms/step\n",
      "Epoch 27/100\n",
      "9030/9030 - 11s - loss: 0.0076 - val_loss: 0.0020 - 11s/epoch - 1ms/step\n",
      "Epoch 28/100\n",
      "9030/9030 - 11s - loss: 0.0076 - val_loss: 0.0020 - 11s/epoch - 1ms/step\n",
      "Epoch 29/100\n",
      "9030/9030 - 11s - loss: 0.0075 - val_loss: 0.0020 - 11s/epoch - 1ms/step\n",
      "Epoch 30/100\n",
      "9030/9030 - 11s - loss: 0.0075 - val_loss: 0.0020 - 11s/epoch - 1ms/step\n",
      "Epoch 31/100\n",
      "9030/9030 - 11s - loss: 0.0075 - val_loss: 0.0019 - 11s/epoch - 1ms/step\n",
      "Epoch 32/100\n",
      "9030/9030 - 11s - loss: 0.0075 - val_loss: 0.0019 - 11s/epoch - 1ms/step\n",
      "Epoch 33/100\n",
      "9030/9030 - 11s - loss: 0.0074 - val_loss: 0.0020 - 11s/epoch - 1ms/step\n",
      "Epoch 34/100\n",
      "9030/9030 - 11s - loss: 0.0074 - val_loss: 0.0019 - 11s/epoch - 1ms/step\n",
      "Epoch 35/100\n",
      "9030/9030 - 11s - loss: 0.0074 - val_loss: 0.0021 - 11s/epoch - 1ms/step\n",
      "Epoch 36/100\n",
      "9030/9030 - 11s - loss: 0.0074 - val_loss: 0.0019 - 11s/epoch - 1ms/step\n",
      "Epoch 37/100\n",
      "9030/9030 - 11s - loss: 0.0073 - val_loss: 0.0021 - 11s/epoch - 1ms/step\n",
      "Epoch 38/100\n",
      "9030/9030 - 11s - loss: 0.0073 - val_loss: 0.0021 - 11s/epoch - 1ms/step\n",
      "Epoch 39/100\n",
      "9030/9030 - 12s - loss: 0.0073 - val_loss: 0.0019 - 12s/epoch - 1ms/step\n",
      "Epoch 40/100\n",
      "9030/9030 - 11s - loss: 0.0073 - val_loss: 0.0020 - 11s/epoch - 1ms/step\n",
      "Epoch 41/100\n",
      "9030/9030 - 11s - loss: 0.0073 - val_loss: 0.0020 - 11s/epoch - 1ms/step\n",
      "Epoch 42/100\n",
      "9030/9030 - 11s - loss: 0.0072 - val_loss: 0.0019 - 11s/epoch - 1ms/step\n",
      "Epoch 43/100\n",
      "9030/9030 - 11s - loss: 0.0072 - val_loss: 0.0019 - 11s/epoch - 1ms/step\n",
      "Epoch 44/100\n",
      "9030/9030 - 11s - loss: 0.0072 - val_loss: 0.0021 - 11s/epoch - 1ms/step\n",
      "Epoch 45/100\n",
      "9030/9030 - 11s - loss: 0.0072 - val_loss: 0.0020 - 11s/epoch - 1ms/step\n",
      "Epoch 46/100\n",
      "9030/9030 - 11s - loss: 0.0072 - val_loss: 0.0020 - 11s/epoch - 1ms/step\n",
      "Epoch 47/100\n",
      "9030/9030 - 11s - loss: 0.0072 - val_loss: 0.0020 - 11s/epoch - 1ms/step\n",
      "Epoch 48/100\n",
      "9030/9030 - 11s - loss: 0.0072 - val_loss: 0.0020 - 11s/epoch - 1ms/step\n",
      "Epoch 49/100\n",
      "9030/9030 - 11s - loss: 0.0071 - val_loss: 0.0021 - 11s/epoch - 1ms/step\n",
      "Epoch 50/100\n",
      "9030/9030 - 11s - loss: 0.0071 - val_loss: 0.0020 - 11s/epoch - 1ms/step\n",
      "Epoch 51/100\n",
      "9030/9030 - 11s - loss: 0.0071 - val_loss: 0.0021 - 11s/epoch - 1ms/step\n",
      "Epoch 52/100\n",
      "9030/9030 - 11s - loss: 0.0071 - val_loss: 0.0021 - 11s/epoch - 1ms/step\n",
      "Epoch 53/100\n",
      "9030/9030 - 11s - loss: 0.0071 - val_loss: 0.0020 - 11s/epoch - 1ms/step\n",
      "Epoch 54/100\n",
      "9030/9030 - 11s - loss: 0.0071 - val_loss: 0.0019 - 11s/epoch - 1ms/step\n",
      "Epoch 55/100\n",
      "9030/9030 - 11s - loss: 0.0070 - val_loss: 0.0021 - 11s/epoch - 1ms/step\n",
      "Epoch 56/100\n",
      "9030/9030 - 11s - loss: 0.0070 - val_loss: 0.0020 - 11s/epoch - 1ms/step\n",
      "Epoch 57/100\n",
      "9030/9030 - 11s - loss: 0.0070 - val_loss: 0.0020 - 11s/epoch - 1ms/step\n",
      "Epoch 58/100\n",
      "9030/9030 - 11s - loss: 0.0070 - val_loss: 0.0019 - 11s/epoch - 1ms/step\n",
      "Epoch 59/100\n",
      "9030/9030 - 11s - loss: 0.0070 - val_loss: 0.0021 - 11s/epoch - 1ms/step\n",
      "Epoch 60/100\n",
      "9030/9030 - 11s - loss: 0.0070 - val_loss: 0.0020 - 11s/epoch - 1ms/step\n",
      "Epoch 61/100\n",
      "9030/9030 - 11s - loss: 0.0070 - val_loss: 0.0022 - 11s/epoch - 1ms/step\n",
      "Epoch 62/100\n",
      "9030/9030 - 11s - loss: 0.0070 - val_loss: 0.0021 - 11s/epoch - 1ms/step\n",
      "Epoch 63/100\n",
      "9030/9030 - 11s - loss: 0.0069 - val_loss: 0.0023 - 11s/epoch - 1ms/step\n",
      "Epoch 64/100\n",
      "9030/9030 - 11s - loss: 0.0069 - val_loss: 0.0021 - 11s/epoch - 1ms/step\n",
      "Epoch 65/100\n",
      "9030/9030 - 11s - loss: 0.0069 - val_loss: 0.0020 - 11s/epoch - 1ms/step\n",
      "Epoch 66/100\n",
      "9030/9030 - 11s - loss: 0.0069 - val_loss: 0.0021 - 11s/epoch - 1ms/step\n",
      "Epoch 67/100\n",
      "9030/9030 - 11s - loss: 0.0069 - val_loss: 0.0020 - 11s/epoch - 1ms/step\n",
      "Epoch 68/100\n",
      "9030/9030 - 11s - loss: 0.0069 - val_loss: 0.0021 - 11s/epoch - 1ms/step\n",
      "Epoch 69/100\n",
      "9030/9030 - 11s - loss: 0.0069 - val_loss: 0.0021 - 11s/epoch - 1ms/step\n",
      "Epoch 70/100\n",
      "9030/9030 - 11s - loss: 0.0069 - val_loss: 0.0021 - 11s/epoch - 1ms/step\n",
      "Epoch 71/100\n",
      "9030/9030 - 11s - loss: 0.0069 - val_loss: 0.0020 - 11s/epoch - 1ms/step\n",
      "Epoch 72/100\n",
      "9030/9030 - 11s - loss: 0.0068 - val_loss: 0.0020 - 11s/epoch - 1ms/step\n",
      "Epoch 73/100\n",
      "9030/9030 - 12s - loss: 0.0068 - val_loss: 0.0022 - 12s/epoch - 1ms/step\n",
      "Epoch 74/100\n",
      "9030/9030 - 12s - loss: 0.0068 - val_loss: 0.0023 - 12s/epoch - 1ms/step\n",
      "Epoch 75/100\n",
      "9030/9030 - 12s - loss: 0.0068 - val_loss: 0.0023 - 12s/epoch - 1ms/step\n",
      "Epoch 76/100\n",
      "9030/9030 - 12s - loss: 0.0068 - val_loss: 0.0020 - 12s/epoch - 1ms/step\n",
      "Epoch 77/100\n",
      "9030/9030 - 12s - loss: 0.0068 - val_loss: 0.0020 - 12s/epoch - 1ms/step\n",
      "Epoch 78/100\n",
      "9030/9030 - 12s - loss: 0.0068 - val_loss: 0.0021 - 12s/epoch - 1ms/step\n",
      "Epoch 79/100\n",
      "9030/9030 - 12s - loss: 0.0068 - val_loss: 0.0021 - 12s/epoch - 1ms/step\n",
      "Epoch 80/100\n",
      "9030/9030 - 12s - loss: 0.0068 - val_loss: 0.0020 - 12s/epoch - 1ms/step\n",
      "Epoch 81/100\n",
      "9030/9030 - 12s - loss: 0.0067 - val_loss: 0.0020 - 12s/epoch - 1ms/step\n",
      "Epoch 82/100\n",
      "9030/9030 - 12s - loss: 0.0067 - val_loss: 0.0020 - 12s/epoch - 1ms/step\n",
      "Epoch 83/100\n",
      "9030/9030 - 12s - loss: 0.0067 - val_loss: 0.0020 - 12s/epoch - 1ms/step\n",
      "Epoch 84/100\n",
      "9030/9030 - 12s - loss: 0.0067 - val_loss: 0.0020 - 12s/epoch - 1ms/step\n",
      "Epoch 85/100\n",
      "9030/9030 - 12s - loss: 0.0067 - val_loss: 0.0021 - 12s/epoch - 1ms/step\n",
      "Epoch 86/100\n",
      "9030/9030 - 12s - loss: 0.0067 - val_loss: 0.0020 - 12s/epoch - 1ms/step\n",
      "Epoch 87/100\n",
      "9030/9030 - 12s - loss: 0.0067 - val_loss: 0.0021 - 12s/epoch - 1ms/step\n",
      "Epoch 88/100\n",
      "9030/9030 - 12s - loss: 0.0067 - val_loss: 0.0021 - 12s/epoch - 1ms/step\n",
      "Epoch 89/100\n",
      "9030/9030 - 12s - loss: 0.0067 - val_loss: 0.0021 - 12s/epoch - 1ms/step\n",
      "Epoch 90/100\n",
      "9030/9030 - 12s - loss: 0.0067 - val_loss: 0.0023 - 12s/epoch - 1ms/step\n",
      "Epoch 91/100\n",
      "9030/9030 - 12s - loss: 0.0066 - val_loss: 0.0023 - 12s/epoch - 1ms/step\n",
      "Epoch 92/100\n",
      "9030/9030 - 12s - loss: 0.0066 - val_loss: 0.0023 - 12s/epoch - 1ms/step\n",
      "Epoch 93/100\n",
      "9030/9030 - 12s - loss: 0.0066 - val_loss: 0.0022 - 12s/epoch - 1ms/step\n",
      "Epoch 94/100\n",
      "9030/9030 - 12s - loss: 0.0066 - val_loss: 0.0023 - 12s/epoch - 1ms/step\n",
      "Epoch 95/100\n",
      "9030/9030 - 12s - loss: 0.0066 - val_loss: 0.0023 - 12s/epoch - 1ms/step\n",
      "Epoch 96/100\n",
      "9030/9030 - 12s - loss: 0.0066 - val_loss: 0.0023 - 12s/epoch - 1ms/step\n",
      "Epoch 97/100\n",
      "9030/9030 - 12s - loss: 0.0066 - val_loss: 0.0022 - 12s/epoch - 1ms/step\n",
      "Epoch 98/100\n",
      "9030/9030 - 12s - loss: 0.0066 - val_loss: 0.0022 - 12s/epoch - 1ms/step\n",
      "Epoch 99/100\n",
      "9030/9030 - 12s - loss: 0.0066 - val_loss: 0.0020 - 12s/epoch - 1ms/step\n",
      "Epoch 100/100\n",
      "9030/9030 - 12s - loss: 0.0066 - val_loss: 0.0022 - 12s/epoch - 1ms/step\n"
     ]
    },
    {
     "data": {
      "text/plain": [
       "<keras.callbacks.History at 0x245136071f0>"
      ]
     },
     "execution_count": 46,
     "metadata": {},
     "output_type": "execute_result"
    }
   ],
   "source": [
    "model.fit(trainX, train_labels, validation_data=(testX, test_data),\n",
    "          verbose=2, epochs=100)"
   ]
  },
  {
   "cell_type": "code",
   "execution_count": 42,
   "metadata": {},
   "outputs": [
    {
     "name": "stdout",
     "output_type": "stream",
     "text": [
      "Train Score: 1.53 RMSE\n",
      "Test Score: 0.78 RMSE\n"
     ]
    }
   ],
   "source": [
    "\n",
    "# make predictions\n",
    "\n",
    "trainPredict = model.predict(trainX)\n",
    "testPredict = model.predict(testX)\n",
    "\n",
    "# invert predictions back to prescaled values\n",
    "#This is to compare with original input values\n",
    "#SInce we used minmaxscaler we can now use scaler.inverse_transform\n",
    "#to invert the transformation.\n",
    "trainPredict = scaler.inverse_transform(trainPredict)\n",
    "trainY = scaler.inverse_transform([train_labels])\n",
    "testPredict = scaler.inverse_transform(testPredict)\n",
    "testY = scaler.inverse_transform([test_labels])\n",
    "\n",
    "# calculate root mean squared error\n",
    "trainScore = math.sqrt(mean_squared_error(trainY[0], trainPredict[:,0]))\n",
    "print('Train Score: %.2f RMSE' % (trainScore))\n",
    "\n",
    "testScore = math.sqrt(mean_squared_error(testY[0], testPredict[:,0]))\n",
    "print('Test Score: %.2f RMSE' % (testScore))"
   ]
  },
  {
   "cell_type": "code",
   "execution_count": 44,
   "metadata": {},
   "outputs": [
    {
     "data": {
      "text/plain": [
       "(288941, 1)"
      ]
     },
     "execution_count": 44,
     "metadata": {},
     "output_type": "execute_result"
    }
   ],
   "source": [
    "trainPredict.shape"
   ]
  },
  {
   "cell_type": "code",
   "execution_count": 41,
   "metadata": {},
   "outputs": [],
   "source": [
    "# let's reconstruct the model\n",
    "model = keras.models.load_model(\"lstm_model\")"
   ]
  },
  {
   "cell_type": "code",
   "execution_count": 74,
   "metadata": {},
   "outputs": [],
   "source": [
    "dataset = np.concatenate((train_data, test_data))"
   ]
  },
  {
   "cell_type": "code",
   "execution_count": 75,
   "metadata": {},
   "outputs": [
    {
     "ename": "ValueError",
     "evalue": "could not broadcast input array from shape (72236,1) into shape (72214,10)",
     "output_type": "error",
     "traceback": [
      "\u001b[1;31m---------------------------------------------------------------------------\u001b[0m",
      "\u001b[1;31mValueError\u001b[0m                                Traceback (most recent call last)",
      "\u001b[1;32m~\\AppData\\Local\\Temp/ipykernel_21904/1653614026.py\u001b[0m in \u001b[0;36m<module>\u001b[1;34m\u001b[0m\n\u001b[0;32m     10\u001b[0m \u001b[0mtestPredictPlot\u001b[0m \u001b[1;33m=\u001b[0m \u001b[0mnp\u001b[0m\u001b[1;33m.\u001b[0m\u001b[0mempty_like\u001b[0m\u001b[1;33m(\u001b[0m\u001b[0mdataset\u001b[0m\u001b[1;33m)\u001b[0m\u001b[1;33m\u001b[0m\u001b[1;33m\u001b[0m\u001b[0m\n\u001b[0;32m     11\u001b[0m \u001b[0mtestPredictPlot\u001b[0m\u001b[1;33m[\u001b[0m\u001b[1;33m:\u001b[0m\u001b[1;33m,\u001b[0m \u001b[1;33m:\u001b[0m\u001b[1;33m]\u001b[0m \u001b[1;33m=\u001b[0m \u001b[0mnp\u001b[0m\u001b[1;33m.\u001b[0m\u001b[0mnan\u001b[0m\u001b[1;33m\u001b[0m\u001b[1;33m\u001b[0m\u001b[0m\n\u001b[1;32m---> 12\u001b[1;33m \u001b[0mtestPredictPlot\u001b[0m\u001b[1;33m[\u001b[0m\u001b[0mlen\u001b[0m\u001b[1;33m(\u001b[0m\u001b[0mtrainPredict\u001b[0m\u001b[1;33m)\u001b[0m\u001b[1;33m+\u001b[0m\u001b[1;33m(\u001b[0m\u001b[0msample_history\u001b[0m\u001b[1;33m*\u001b[0m\u001b[1;36m2\u001b[0m\u001b[1;33m)\u001b[0m\u001b[1;33m+\u001b[0m\u001b[1;36m1\u001b[0m\u001b[1;33m:\u001b[0m\u001b[0mlen\u001b[0m\u001b[1;33m(\u001b[0m\u001b[0mdataset\u001b[0m\u001b[1;33m)\u001b[0m\u001b[1;33m-\u001b[0m\u001b[1;36m1\u001b[0m\u001b[1;33m,\u001b[0m \u001b[1;33m:\u001b[0m\u001b[1;33m]\u001b[0m \u001b[1;33m=\u001b[0m \u001b[0mtestPredict\u001b[0m\u001b[1;33m\u001b[0m\u001b[1;33m\u001b[0m\u001b[0m\n\u001b[0m",
      "\u001b[1;31mValueError\u001b[0m: could not broadcast input array from shape (72236,1) into shape (72214,10)"
     ]
    }
   ],
   "source": [
    "# shift train predictions for plotting\n",
    "#we must shift the predictions so that they align on the x-axis with the original dataset. \n",
    "# shift train predictions for plotting\n",
    "#we must shift the predictions so that they align on the x-axis with the original dataset. \n",
    "trainPredictPlot = np.empty_like(dataset)\n",
    "trainPredictPlot[:, :] = np.nan\n",
    "trainPredictPlot[sample_history:len(trainPredict)+sample_history, :] = trainPredict\n",
    "\n",
    "# shift test predictions for plotting\n",
    "testPredictPlot = np.empty_like(dataset)\n",
    "testPredictPlot[:, :] = np.nan\n",
    "testPredictPlot[len(trainPredict)+(sample_history*2)+1:len(dataset)-1, :] = testPredict\n"
   ]
  },
  {
   "cell_type": "code",
   "execution_count": 53,
   "metadata": {},
   "outputs": [],
   "source": [
    "testPredict = testPredict.astype(\"float64\")"
   ]
  },
  {
   "cell_type": "code",
   "execution_count": 80,
   "metadata": {},
   "outputs": [
    {
     "data": {
      "image/png": "[encoded data removed]",
      "text/plain": [
       "<Figure size 432x288 with 2 Axes>"
      ]
     },
     "metadata": {},
     "output_type": "display_data"
    }
   ],
   "source": [
    "plt.rc('axes', labelsize=16)    # fontsize of the x and y labels\n",
    "\n",
    "color_one = '#3399FF'\n",
    "color_two = '#FF8000'\n",
    "\n",
    "fig, ax1 = plt.subplots()\n",
    "\n",
    "t = np.arange(0, test_data.shape[0])\n",
    "ax1.plot(t, testY.reshape(-1,1), color=color_one)\n",
    "ax1.set_xlabel('Timestamp index  #', )\n",
    "ax1.set_ylabel('Real Test Labels', color=color_one)\n",
    "ax1.tick_params('y', colors=color_one)\n",
    "\n",
    "ax2 = ax1.twinx()\n",
    "ax2.plot(t, testPredict, color=color_two)\n",
    "ax2.set_ylabel('Predicted Test Labels', color=color_two)\n",
    "ax2.tick_params('y', colors=color_two)\n",
    "\n",
    "plt.title(\"Bitbrains CPU % Average Trace\", fontsize=24)\n",
    "\n",
    "plt.show()"
   ]
  },
  {
   "cell_type": "code",
   "execution_count": 76,
   "metadata": {},
   "outputs": [
    {
     "data": {
      "text/plain": [
       "array([[ 2.85685396],\n",
       "       [ 2.65646005],\n",
       "       [ 3.34290552],\n",
       "       ...,\n",
       "       [-0.05693924],\n",
       "       [-0.05918327],\n",
       "       [-0.06078461]])"
      ]
     },
     "execution_count": 76,
     "metadata": {},
     "output_type": "execute_result"
    }
   ],
   "source": [
    "testPredict"
   ]
  },
  {
   "cell_type": "code",
   "execution_count": 78,
   "metadata": {},
   "outputs": [],
   "source": [
    "for i in range(len(testPredict)):\n",
    "    if testPredict[i] < 0 : \n",
    "        testPredict[i] = 0"
   ]
  },
  {
   "cell_type": "code",
   "execution_count": 79,
   "metadata": {},
   "outputs": [
    {
     "data": {
      "text/plain": [
       "array([[2.85685396],\n",
       "       [2.65646005],\n",
       "       [3.34290552],\n",
       "       ...,\n",
       "       [0.        ],\n",
       "       [0.        ],\n",
       "       [0.        ]])"
      ]
     },
     "execution_count": 79,
     "metadata": {},
     "output_type": "execute_result"
    }
   ],
   "source": [
    "testPredict"
   ]
  },
  {
   "cell_type": "code",
   "execution_count": null,
   "metadata": {},
   "outputs": [],
   "source": []
  }
 ],
 "metadata": {
  "interpreter": {
   "hash": "cbf9d42aedbc90768b4389b53ce2f5e905e9c8eae5bc6beefed2c29eab5b146b"
  },
  "kernelspec": {
   "display_name": "Python 3.9.7 64-bit ('base': conda)",
   "language": "python",
   "name": "python3"
  },
  "language_info": {
   "codemirror_mode": {
    "name": "ipython",
    "version": 3
   },
   "file_extension": ".py",
   "mimetype": "text/x-python",
   "name": "python",
   "nbconvert_exporter": "python",
   "pygments_lexer": "ipython3",
   "version": "3.9.7"
  },
  "orig_nbformat": 4
 },
 "nbformat": 4,
 "nbformat_minor": 2
}
